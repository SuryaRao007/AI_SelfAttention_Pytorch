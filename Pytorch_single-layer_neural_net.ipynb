{
 "cells": [
  {
   "cell_type": "code",
   "execution_count": 2,
   "id": "c3aff0bd-4a9e-4a97-9ae7-079e72a2a2f0",
   "metadata": {},
   "outputs": [],
   "source": [
    "import torch"
   ]
  },
  {
   "cell_type": "code",
   "execution_count": 10,
   "id": "aaca194f-25bc-410d-bbd5-f9ec6edbb848",
   "metadata": {},
   "outputs": [
    {
     "data": {
      "text/plain": [
       "'2.0.1'"
      ]
     },
     "execution_count": 10,
     "metadata": {},
     "output_type": "execute_result"
    }
   ],
   "source": [
    "torch.__version__"
   ]
  },
  {
   "cell_type": "code",
   "execution_count": 6,
   "id": "35cac35e-2f72-4c82-8ee4-ef574d0801d2",
   "metadata": {},
   "outputs": [
    {
     "name": "stdout",
     "output_type": "stream",
     "text": [
      "True\n"
     ]
    }
   ],
   "source": [
    "print(torch.backends.mps.is_available())\n"
   ]
  },
  {
   "cell_type": "code",
   "execution_count": 8,
   "id": "f6835be6-95de-463c-9f25-67bb34fa5061",
   "metadata": {},
   "outputs": [
    {
     "name": "stdout",
     "output_type": "stream",
     "text": [
      "Collecting torch==2.4.0\n",
      "  Obtaining dependency information for torch==2.4.0 from https://files.pythonhosted.org/packages/b7/d0/5e8f96d83889e77b478b90e7d8d24a5fc14c5c9350c6b93d071f45f39096/torch-2.4.0-cp311-none-macosx_11_0_arm64.whl.metadata\n",
      "  Downloading torch-2.4.0-cp311-none-macosx_11_0_arm64.whl.metadata (26 kB)\n",
      "Requirement already satisfied: filelock in /Users/surya/anaconda3/lib/python3.11/site-packages (from torch==2.4.0) (3.9.0)\n",
      "Collecting typing-extensions>=4.8.0 (from torch==2.4.0)\n",
      "  Obtaining dependency information for typing-extensions>=4.8.0 from https://files.pythonhosted.org/packages/26/9f/ad63fc0248c5379346306f8668cda6e2e2e9c95e01216d2b8ffd9ff037d0/typing_extensions-4.12.2-py3-none-any.whl.metadata\n",
      "  Downloading typing_extensions-4.12.2-py3-none-any.whl.metadata (3.0 kB)\n",
      "Requirement already satisfied: sympy in /Users/surya/anaconda3/lib/python3.11/site-packages (from torch==2.4.0) (1.11.1)\n",
      "Requirement already satisfied: networkx in /Users/surya/anaconda3/lib/python3.11/site-packages (from torch==2.4.0) (3.1)\n",
      "Requirement already satisfied: jinja2 in /Users/surya/anaconda3/lib/python3.11/site-packages (from torch==2.4.0) (3.1.2)\n",
      "Requirement already satisfied: fsspec in /Users/surya/anaconda3/lib/python3.11/site-packages (from torch==2.4.0) (2024.12.0)\n",
      "Requirement already satisfied: MarkupSafe>=2.0 in /Users/surya/anaconda3/lib/python3.11/site-packages (from jinja2->torch==2.4.0) (2.1.1)\n",
      "Requirement already satisfied: mpmath>=0.19 in /Users/surya/anaconda3/lib/python3.11/site-packages (from sympy->torch==2.4.0) (1.3.0)\n",
      "Downloading torch-2.4.0-cp311-none-macosx_11_0_arm64.whl (62.1 MB)\n",
      "\u001b[2K   \u001b[90m━━━━━━━━━━━━━━━━━━━━━━━━━━━━━━━━━━━━━━━━\u001b[0m \u001b[32m62.1/62.1 MB\u001b[0m \u001b[31m27.7 MB/s\u001b[0m eta \u001b[36m0:00:00\u001b[0m00:01\u001b[0m00:01\u001b[0m\n",
      "\u001b[?25hDownloading typing_extensions-4.12.2-py3-none-any.whl (37 kB)\n",
      "Installing collected packages: typing-extensions, torch\n",
      "  Attempting uninstall: typing-extensions\n",
      "    Found existing installation: typing_extensions 4.7.1\n",
      "    Uninstalling typing_extensions-4.7.1:\n",
      "      Successfully uninstalled typing_extensions-4.7.1\n",
      "  Attempting uninstall: torch\n",
      "    Found existing installation: torch 2.0.1\n",
      "    Uninstalling torch-2.0.1:\n",
      "      Successfully uninstalled torch-2.0.1\n",
      "Successfully installed torch-2.4.0 typing-extensions-4.12.2\n",
      "Note: you may need to restart the kernel to use updated packages.\n"
     ]
    }
   ],
   "source": [
    "pip install torch==2.4.0"
   ]
  },
  {
   "cell_type": "code",
   "execution_count": 4,
   "id": "7eaf558c-51e6-4ee7-a847-855c996c954d",
   "metadata": {},
   "outputs": [],
   "source": [
    "import torch"
   ]
  },
  {
   "cell_type": "code",
   "execution_count": 6,
   "id": "0adce20c-c938-411d-bc9a-bf0ca6394b01",
   "metadata": {},
   "outputs": [
    {
     "data": {
      "text/plain": [
       "'2.4.0'"
      ]
     },
     "execution_count": 6,
     "metadata": {},
     "output_type": "execute_result"
    }
   ],
   "source": [
    "torch.__version__"
   ]
  },
  {
   "cell_type": "code",
   "execution_count": 8,
   "id": "c07be190-3beb-4c0b-a90d-6a7783af7dcd",
   "metadata": {},
   "outputs": [
    {
     "name": "stdout",
     "output_type": "stream",
     "text": [
      "True\n"
     ]
    }
   ],
   "source": [
    "print(torch.backends.mps.is_available())\n"
   ]
  },
  {
   "cell_type": "code",
   "execution_count": 16,
   "id": "a904bd4f-d201-4b4a-a8f7-3367d7b77b0c",
   "metadata": {},
   "outputs": [],
   "source": [
    "tensor0d = torch.tensor(1)\n",
    "tensor1d = torch.tensor([1,2,3])\n",
    "tensor2d = torch.tensor([[1,2],[3,4]])\n",
    "tensor3d = torch.tensor([[[1,2],[3,4]],[[5,6],[7,8]]])"
   ]
  },
  {
   "cell_type": "code",
   "execution_count": 18,
   "id": "9b17984f-e2ca-48a6-9e64-7ab0ac0aa528",
   "metadata": {},
   "outputs": [
    {
     "name": "stdout",
     "output_type": "stream",
     "text": [
      "tensor([[1, 2],\n",
      "        [3, 4]])\n"
     ]
    }
   ],
   "source": [
    "print(tensor2d)"
   ]
  },
  {
   "cell_type": "code",
   "execution_count": 20,
   "id": "28c40cbc-6a79-4c27-ac76-f0356d69e49d",
   "metadata": {},
   "outputs": [
    {
     "name": "stdout",
     "output_type": "stream",
     "text": [
      "torch.Size([2, 2])\n"
     ]
    }
   ],
   "source": [
    "print(tensor2d.shape)"
   ]
  },
  {
   "cell_type": "code",
   "execution_count": 24,
   "id": "e24b5f5a-f812-4eea-a0a2-a24cf6c6080b",
   "metadata": {},
   "outputs": [
    {
     "name": "stdout",
     "output_type": "stream",
     "text": [
      "torch.Size([2, 3])\n"
     ]
    }
   ],
   "source": [
    "tensor2d1 = torch.tensor([[1,2,3],[4,5,6]])\n",
    "print(tensor2d1.shape)"
   ]
  },
  {
   "cell_type": "code",
   "execution_count": 26,
   "id": "f21fd97c-1098-4827-b5e1-d762fafff7a5",
   "metadata": {},
   "outputs": [
    {
     "name": "stdout",
     "output_type": "stream",
     "text": [
      "tensor([[1, 2],\n",
      "        [3, 4],\n",
      "        [5, 6]])\n"
     ]
    }
   ],
   "source": [
    "print(tensor2d1.view(3,2))"
   ]
  },
  {
   "cell_type": "code",
   "execution_count": 28,
   "id": "8323202f-8302-489a-82f2-f39ee0bab7a8",
   "metadata": {},
   "outputs": [
    {
     "name": "stdout",
     "output_type": "stream",
     "text": [
      "torch.Size([2, 3])\n"
     ]
    }
   ],
   "source": [
    "print(tensor2d1.shape)"
   ]
  },
  {
   "cell_type": "code",
   "execution_count": 32,
   "id": "3c05d932-c332-43f6-ab98-d4553b13f279",
   "metadata": {},
   "outputs": [
    {
     "name": "stdout",
     "output_type": "stream",
     "text": [
      "tensor([[1, 4],\n",
      "        [2, 5],\n",
      "        [3, 6]])\n"
     ]
    }
   ],
   "source": [
    "print(tensor2d1.T)"
   ]
  },
  {
   "cell_type": "code",
   "execution_count": 34,
   "id": "128f7673-12bb-4bbe-aa1e-acf10f635c98",
   "metadata": {},
   "outputs": [
    {
     "name": "stdout",
     "output_type": "stream",
     "text": [
      "tensor([[14, 32],\n",
      "        [32, 77]])\n"
     ]
    }
   ],
   "source": [
    "print(tensor2d1.matmul(tensor2d1.T))"
   ]
  },
  {
   "cell_type": "code",
   "execution_count": 36,
   "id": "0a0214f9-efd3-4da6-ad77-42a03f066a2f",
   "metadata": {},
   "outputs": [
    {
     "name": "stdout",
     "output_type": "stream",
     "text": [
      "tensor([[14, 32],\n",
      "        [32, 77]])\n"
     ]
    }
   ],
   "source": [
    "#https://pytorch.org/docs/stable/tensors.html\n",
    "print(tensor2d1@tensor2d1.T)"
   ]
  },
  {
   "cell_type": "code",
   "execution_count": 48,
   "id": "4c3c7097-6984-4cab-aa15-4637cb3d3d9a",
   "metadata": {},
   "outputs": [
    {
     "name": "stdout",
     "output_type": "stream",
     "text": [
      "tensor([-0.0898])\n",
      "tensor([-0.0817])\n"
     ]
    }
   ],
   "source": [
    "#logistic regression forward pass which can be seen in single layer neural network\n",
    "import torch.nn.functional as F\n",
    "from torch.autograd import grad\n",
    "y = torch.tensor([1.0]) #true label\n",
    "x1 = torch.tensor([1.1]) #input feature\n",
    "w1 = torch.tensor([2.2],requires_grad = True) #weight parameter\n",
    "b = torch.tensor([0.0],requires_grad = True)#bias unit\n",
    "z = x1 * w1 + b #net input\n",
    "a = torch.sigmoid(z) #Activation\n",
    "loss = F.binary_cross_entropy(a,y)\n",
    "#back propagation dL/dw1 = du/dw1*dz/du*da/dz*dL/da where x1*w1 = u\n",
    "loss.backward()\n",
    "print(w1.grad)\n",
    "print(b.grad)"
   ]
  },
  {
   "cell_type": "code",
   "execution_count": 44,
   "id": "3b155539-2767-4ff1-a036-04adb7181114",
   "metadata": {},
   "outputs": [
    {
     "name": "stdout",
     "output_type": "stream",
     "text": [
      "tensor(0.0852)\n"
     ]
    }
   ],
   "source": [
    "print(loss)"
   ]
  },
  {
   "cell_type": "code",
   "execution_count": null,
   "id": "070b24e5-f4cf-4552-89a6-17a0d2087efa",
   "metadata": {},
   "outputs": [],
   "source": []
  }
 ],
 "metadata": {
  "kernelspec": {
   "display_name": "Python [conda env:base] *",
   "language": "python",
   "name": "conda-base-py"
  },
  "language_info": {
   "codemirror_mode": {
    "name": "ipython",
    "version": 3
   },
   "file_extension": ".py",
   "mimetype": "text/x-python",
   "name": "python",
   "nbconvert_exporter": "python",
   "pygments_lexer": "ipython3",
   "version": "3.11.4"
  }
 },
 "nbformat": 4,
 "nbformat_minor": 5
}
